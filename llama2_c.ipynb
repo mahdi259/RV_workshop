{
  "nbformat": 4,
  "nbformat_minor": 0,
  "metadata": {
    "colab": {
      "provenance": [],
      "authorship_tag": "ABX9TyMVeeew10lIqk0iYVl3L3jJ",
      "include_colab_link": true
    },
    "kernelspec": {
      "name": "python3",
      "display_name": "Python 3"
    },
    "language_info": {
      "name": "python"
    }
  },
  "cells": [
    {
      "cell_type": "markdown",
      "metadata": {
        "id": "view-in-github",
        "colab_type": "text"
      },
      "source": [
        "<a href=\"https://colab.research.google.com/github/mahdi259/RV_workshop/blob/main/llama2_c.ipynb\" target=\"_parent\"><img src=\"https://colab.research.google.com/assets/colab-badge.svg\" alt=\"Open In Colab\"/></a>"
      ]
    },
    {
      "cell_type": "markdown",
      "source": [
        "# **Retrieve llama2.c files**"
      ],
      "metadata": {
        "id": "7OX9IvONJCJg"
      }
    },
    {
      "cell_type": "code",
      "execution_count": null,
      "metadata": {
        "id": "Rt6sbWdOrpok"
      },
      "outputs": [],
      "source": [
        "!git clone https://github.com/karpathy/llama2.c.git"
      ]
    },
    {
      "cell_type": "code",
      "source": [
        "%cd /content/llama2.c"
      ],
      "metadata": {
        "id": "iWxiaxmQrxNl"
      },
      "execution_count": null,
      "outputs": []
    },
    {
      "cell_type": "markdown",
      "source": [
        "# **Download tinystory weight file**"
      ],
      "metadata": {
        "id": "N2X5akhCJG89"
      }
    },
    {
      "cell_type": "code",
      "source": [
        "!wget https://huggingface.co/karpathy/tinyllamas/resolve/main/stories15M.pt\n",
        "!wget https://huggingface.co/karpathy/tinyllamas/resolve/main/stories110M.pt"
      ],
      "metadata": {
        "id": "jT7ZinVVr0aU"
      },
      "execution_count": null,
      "outputs": []
    },
    {
      "cell_type": "markdown",
      "source": [
        "# **Quantize FP weights to 8-bit integers**"
      ],
      "metadata": {
        "id": "leoYkm0sJN19"
      }
    },
    {
      "cell_type": "code",
      "source": [
        "!python export.py stories15M_q8.bin --version 2 --checkpoint stories15M.pt\n",
        "!python export.py stories110M_q8.bin --version 2 --checkpoint stories110M.pt"
      ],
      "metadata": {
        "id": "Vbbxu4e1sD8k"
      },
      "execution_count": null,
      "outputs": []
    },
    {
      "cell_type": "markdown",
      "source": [
        "# **Run the model**"
      ],
      "metadata": {
        "id": "9NSDKU_zMHHS"
      }
    },
    {
      "cell_type": "code",
      "source": [
        "!make run\n",
        "!./runq stories15M_q8.bin -i \"Helen is reading\"\n",
        "# !./runq stories110M_q8.bin -i \"Helen is reading\""
      ],
      "metadata": {
        "id": "ZM2guSOnKJu3"
      },
      "execution_count": null,
      "outputs": []
    }
  ]
}