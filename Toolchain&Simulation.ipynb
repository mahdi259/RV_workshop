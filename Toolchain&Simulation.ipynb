{
  "cells": [
    {
      "cell_type": "markdown",
      "metadata": {
        "id": "view-in-github",
        "colab_type": "text"
      },
      "source": [
        "<a href=\"https://colab.research.google.com/github/mmcheraghi/RV_workshop/blob/main/Toolchain%26Simulation.ipynb\" target=\"_parent\"><img src=\"https://colab.research.google.com/assets/colab-badge.svg\" alt=\"Open In Colab\"/></a>"
      ]
    },
    {
      "cell_type": "code",
      "source": [
        "!lscpu"
      ],
      "metadata": {
        "id": "oXhRVDtdi3wp"
      },
      "execution_count": null,
      "outputs": []
    },
    {
      "cell_type": "code",
      "source": [
        "!lsb_release -a"
      ],
      "metadata": {
        "id": "tCdbGrUPii62"
      },
      "execution_count": null,
      "outputs": []
    },
    {
      "cell_type": "markdown",
      "metadata": {
        "id": "m7iao8utkZaR"
      },
      "source": [
        "**NEORV32 Toolchain**"
      ]
    },
    {
      "cell_type": "markdown",
      "source": [
        "**Build toolchain manually**\n",
        "\n",
        "There is an issue in **riscv-gnu-toolchain** submodule cloning.You should follow the below instructions:\n",
        "\n",
        "    Edit .gitmodules to comment out/remove all shallow = true lines\n",
        "    Edit Makefile.in to remove depth 1\n",
        "    Run configure and make\n"
      ],
      "metadata": {
        "id": "PpcvveXdeSxc"
      }
    },
    {
      "cell_type": "code",
      "source": [
        "!sudo apt-get install autoconf automake autotools-dev curl python3 python3-pip python3-tomli libmpc-dev libmpfr-dev libgmp-dev gawk build-essential bison flex texinfo gperf libtool patchutils bc zlib1g-dev libexpat-dev ninja-build git cmake libglib2.0-dev libslirp-dev"
      ],
      "metadata": {
        "id": "n_LBEpbLebIg"
      },
      "execution_count": null,
      "outputs": []
    },
    {
      "cell_type": "code",
      "source": [
        "!git clone https://github.com/riscv/riscv-gnu-toolchain"
      ],
      "metadata": {
        "id": "YqxSdPi_eRZv"
      },
      "execution_count": null,
      "outputs": []
    },
    {
      "cell_type": "code",
      "source": [
        "%cd /content/riscv-gnu-toolchain"
      ],
      "metadata": {
        "id": "AQZI_ttCefD5"
      },
      "execution_count": null,
      "outputs": []
    },
    {
      "cell_type": "code",
      "source": [
        "!./configure --prefix=/opt/riscv --with-arch=rv32i --with-abi=ilp32\n",
        "!make"
      ],
      "metadata": {
        "id": "kuNTVSp1eeit"
      },
      "execution_count": null,
      "outputs": []
    },
    {
      "cell_type": "markdown",
      "source": [
        "**Use prebuilt toolchain**"
      ],
      "metadata": {
        "id": "hH1g_8-jeNWR"
      }
    },
    {
      "cell_type": "code",
      "execution_count": null,
      "metadata": {
        "id": "OwlHKUzVnlBG"
      },
      "outputs": [],
      "source": [
        "%cd /content\n",
        "!wget https://github.com/xpack-dev-tools/riscv-none-elf-gcc-xpack/releases/download/v14.2.0-3/xpack-riscv-none-elf-gcc-14.2.0-3-linux-x64.tar.gz"
      ]
    },
    {
      "cell_type": "code",
      "execution_count": null,
      "metadata": {
        "id": "uEnO350znqpk"
      },
      "outputs": [],
      "source": [
        "!sudo mkdir /opt/riscv"
      ]
    },
    {
      "cell_type": "code",
      "execution_count": null,
      "metadata": {
        "id": "B46b-8mpKw8X"
      },
      "outputs": [],
      "source": [
        "%cd /content"
      ]
    },
    {
      "cell_type": "code",
      "execution_count": null,
      "metadata": {
        "id": "h9ypyQFMoeLJ"
      },
      "outputs": [],
      "source": [
        "!sudo tar -xzf xpack-riscv-none-elf-gcc-14.2.0-3-linux-x64.tar.gz -C /opt/riscv/"
      ]
    },
    {
      "cell_type": "code",
      "execution_count": null,
      "metadata": {
        "id": "MpPKzlSmoscn"
      },
      "outputs": [],
      "source": [
        "import os\n",
        "os.environ['PATH'] += ':/opt/riscv/xpack-riscv-none-elf-gcc-14.2.0-3/bin'"
      ]
    },
    {
      "cell_type": "code",
      "source": [
        "!ls /opt/riscv/xpack-riscv-none-elf-gcc-14.2.0-3/bin"
      ],
      "metadata": {
        "id": "fNE9ZZk3GPWj"
      },
      "execution_count": null,
      "outputs": []
    },
    {
      "cell_type": "code",
      "execution_count": null,
      "metadata": {
        "id": "5r_pJ5O-ow0J"
      },
      "outputs": [],
      "source": [
        "!riscv-none-elf-gcc -v"
      ]
    },
    {
      "cell_type": "markdown",
      "metadata": {
        "id": "NdwpNWmjpbuG"
      },
      "source": [
        "# **NEORV32 Software**"
      ]
    },
    {
      "cell_type": "code",
      "execution_count": null,
      "metadata": {
        "id": "U7HfHoolkcH2"
      },
      "outputs": [],
      "source": [
        "%cd /content\n",
        "!rm -r neorv32\n",
        "!git clone https://github.com/stnolting/neorv32.git"
      ]
    },
    {
      "cell_type": "markdown",
      "source": [
        "\n",
        "- MARCH determines the target extensions for compiler.\n"
      ],
      "metadata": {
        "id": "9zuqGD1ICngL"
      }
    },
    {
      "cell_type": "code",
      "execution_count": null,
      "metadata": {
        "id": "WOTEcFWXgyIw"
      },
      "outputs": [],
      "source": [
        "%cd /content/neorv32/sw/example/hello_world/\n",
        "# %cd /content/neorv32/sw/example/performance_tests/I/\n",
        "# %cd /content/neorv32/sw/example/coremark\n",
        "# %cd /content/neorv32/sw/example/demo_cfu\n",
        "# %cd /content/neorv32/sw/example/bus_explorer\n",
        "# %cd /content/neorv32/sw/example/demo_newlib\n",
        "# !make clean USER_FLAGS+=\"-Wl,--defsym,__neorv32_ram_size=8M\" MARCH=rv32ima_zicsr_zfinx_zifencei install exe asm\n",
        "!make clean MARCH=rv32im_zicsr_zfinx_zifencei all\n",
        "# !make USER_FLAGS+=\"-Wl,--defsym,__neorv32_ram_size=409600\" clean_all exe MARCH=rv32imc_zicsr_zifencei\n",
        "# !make clean_all MARCH=rv32im_zicsr_zifencei install\n",
        "# !make clean_all asm MARCH=rv32imc\n",
        "# !make elf_info\n"
      ]
    },
    {
      "cell_type": "markdown",
      "source": [
        "# **Simulation with GHDL**\n",
        "Useful before synthesizing custom instruction.\n",
        "- To simulate by ghdl, add -DUART0_SIM_MODE to make command.\n",
        "\n",
        "- take a look at Makefile content for more customization options."
      ],
      "metadata": {
        "id": "k1AG9KVcEDrj"
      }
    },
    {
      "cell_type": "code",
      "source": [
        "!apt install ghdl"
      ],
      "metadata": {
        "id": "1XAvKkRsHr2U"
      },
      "execution_count": null,
      "outputs": []
    },
    {
      "cell_type": "code",
      "source": [
        "%cd /content/neorv32/sw/example/hello_world/\n",
        "!make USER_FLAGS+=-DUART0_SIM_MODE clean_all install sim\n",
        "# !make elf_info"
      ],
      "metadata": {
        "id": "aQXSlUGhEOeh"
      },
      "execution_count": null,
      "outputs": []
    }
  ],
  "metadata": {
    "colab": {
      "provenance": [],
      "mount_file_id": "1E2cHNZF6SIiGWU7nX5zZ-D2TnCV2xmRZ",
      "authorship_tag": "ABX9TyOAnaiifA1ecZ/rSIGqUgl8",
      "include_colab_link": true
    },
    "kernelspec": {
      "display_name": "Python 3",
      "name": "python3"
    },
    "language_info": {
      "name": "python"
    }
  },
  "nbformat": 4,
  "nbformat_minor": 0
}