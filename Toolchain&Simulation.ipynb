{
  "cells": [
    {
      "cell_type": "markdown",
      "metadata": {
        "id": "view-in-github",
        "colab_type": "text"
      },
      "source": [
        "<a href=\"https://colab.research.google.com/github/mmcheraghi/RV_workshop/blob/main/Toolchain%26Simulation.ipynb\" target=\"_parent\"><img src=\"https://colab.research.google.com/assets/colab-badge.svg\" alt=\"Open In Colab\"/></a>"
      ]
    },
    {
      "cell_type": "markdown",
      "metadata": {
        "id": "m7iao8utkZaR"
      },
      "source": [
        "# **NeoRV32 Toolchain**"
      ]
    },
    {
      "cell_type": "markdown",
      "source": [
        "**Build toolchain manually**\n",
        "\n",
        "There is an issue in **riscv-gnu-toolchain** submodule cloning.You should follow the below instructions:\n",
        "\n",
        "    Edit .gitmodules to comment out/remove all shallow = true lines\n",
        "    Edit Makefile.in to remove depth 1\n",
        "    Run configure and make\n"
      ],
      "metadata": {
        "id": "PpcvveXdeSxc"
      }
    },
    {
      "cell_type": "code",
      "source": [
        "!sudo apt-get install autoconf automake autotools-dev curl python3 python3-pip python3-tomli libmpc-dev libmpfr-dev libgmp-dev gawk build-essential bison flex texinfo gperf libtool patchutils bc zlib1g-dev libexpat-dev ninja-build git cmake libglib2.0-dev libslirp-dev"
      ],
      "metadata": {
        "id": "n_LBEpbLebIg"
      },
      "execution_count": null,
      "outputs": []
    },
    {
      "cell_type": "code",
      "source": [
        "!git clone https://github.com/riscv/riscv-gnu-toolchain"
      ],
      "metadata": {
        "id": "YqxSdPi_eRZv"
      },
      "execution_count": null,
      "outputs": []
    },
    {
      "cell_type": "code",
      "source": [
        "%cd /content/riscv-gnu-toolchain"
      ],
      "metadata": {
        "id": "AQZI_ttCefD5"
      },
      "execution_count": null,
      "outputs": []
    },
    {
      "cell_type": "code",
      "source": [
        "!./configure --prefix=/opt/riscv --with-arch=rv32i --with-abi=ilp32\n",
        "!make"
      ],
      "metadata": {
        "id": "kuNTVSp1eeit"
      },
      "execution_count": null,
      "outputs": []
    },
    {
      "cell_type": "markdown",
      "source": [
        "**Use prebuilt toolchain**"
      ],
      "metadata": {
        "id": "hH1g_8-jeNWR"
      }
    },
    {
      "cell_type": "code",
      "execution_count": null,
      "metadata": {
        "id": "OwlHKUzVnlBG"
      },
      "outputs": [],
      "source": [
        "%cd /content\n",
        "!wget https://github.com/xpack-dev-tools/riscv-none-elf-gcc-xpack/releases/download/v14.2.0-3/xpack-riscv-none-elf-gcc-14.2.0-3-linux-x64.tar.gz"
      ]
    },
    {
      "cell_type": "code",
      "execution_count": null,
      "metadata": {
        "id": "uEnO350znqpk"
      },
      "outputs": [],
      "source": [
        "!sudo mkdir /opt/riscv"
      ]
    },
    {
      "cell_type": "code",
      "execution_count": null,
      "metadata": {
        "colab": {
          "base_uri": "https://localhost:8080/"
        },
        "id": "B46b-8mpKw8X",
        "outputId": "7315666d-33c9-488f-ec38-31bcd41e0798"
      },
      "outputs": [
        {
          "output_type": "stream",
          "name": "stdout",
          "text": [
            "/content\n"
          ]
        }
      ],
      "source": [
        "%cd /content"
      ]
    },
    {
      "cell_type": "code",
      "execution_count": null,
      "metadata": {
        "id": "h9ypyQFMoeLJ"
      },
      "outputs": [],
      "source": [
        "!sudo tar -xzf xpack-riscv-none-elf-gcc-14.2.0-3-linux-x64.tar.gz -C /opt/riscv/"
      ]
    },
    {
      "cell_type": "code",
      "execution_count": null,
      "metadata": {
        "id": "MpPKzlSmoscn"
      },
      "outputs": [],
      "source": [
        "import os\n",
        "os.environ['PATH'] += ':/opt/riscv/xpack-riscv-none-elf-gcc-14.2.0-3/bin'"
      ]
    },
    {
      "cell_type": "code",
      "source": [
        "!ls /opt/riscv/xpack-riscv-none-elf-gcc-14.2.0-3/bin"
      ],
      "metadata": {
        "id": "fNE9ZZk3GPWj"
      },
      "execution_count": null,
      "outputs": []
    },
    {
      "cell_type": "code",
      "execution_count": null,
      "metadata": {
        "id": "5r_pJ5O-ow0J"
      },
      "outputs": [],
      "source": [
        "!riscv-none-elf-gcc -v"
      ]
    },
    {
      "cell_type": "markdown",
      "metadata": {
        "id": "NdwpNWmjpbuG"
      },
      "source": [
        "# **NeoRV32 Software**"
      ]
    },
    {
      "cell_type": "code",
      "execution_count": null,
      "metadata": {
        "id": "U7HfHoolkcH2"
      },
      "outputs": [],
      "source": [
        "%cd /content\n",
        "!rm -r neorv32\n",
        "!git clone https://github.com/stnolting/neorv32.git"
      ]
    },
    {
      "cell_type": "code",
      "execution_count": null,
      "metadata": {
        "id": "SnI6dHXUCQ0i"
      },
      "outputs": [],
      "source": [
        "# !apt install ghdl\n",
        "# %cd /content/neorv32/sim/simple"
      ]
    },
    {
      "cell_type": "code",
      "execution_count": null,
      "metadata": {
        "id": "WOTEcFWXgyIw"
      },
      "outputs": [],
      "source": [
        "# !mkdir /content/neorv32/sw/example/mycode\n",
        "# !cp /content/neorv32/sw/example/coremark/makefile /content/neorv32/sw/example/mycode\n",
        "# !cp /content/neorv32/sw/example/hello_world/main.c /content/neorv32/sw/example/mycode\n",
        "# !cp /content/exp.rar /content/neorv32/sw/example/\n",
        "# %cd /content/neorv32/sw/example/\n",
        "# !rm exp.rar\n",
        "# !rm -rf exp\n",
        "# !unrar x exp2.rar\n",
        "\n",
        "# %cd /content/neorv32/sw/example\n",
        "# !unrar x demo_ulppack_cfu.rar"
      ]
    },
    {
      "cell_type": "code",
      "source": [
        "# %cd /content/neorv32/sw/example/\n",
        "# !mkdir test\n",
        "# %cd /content/neorv32/sw/example/test\n",
        "# !cp /content/neorv32/sw/example/hello_world/makefile /content/neorv32/sw/example/test/\n",
        "!make clean_all exe MARCH=rv32imc_zicsr_zifencei"
      ],
      "metadata": {
        "colab": {
          "base_uri": "https://localhost:8080/"
        },
        "id": "1XAvKkRsHr2U",
        "outputId": "c18aab6d-c8bc-4a4c-ad60-9bc67ee82c9a"
      },
      "execution_count": null,
      "outputs": [
        {
          "output_type": "stream",
          "name": "stdout",
          "text": [
            "Memory utilization:\n",
            "   text\t   data\t    bss\t    dec\t    hex\tfilename\n",
            "   3684\t    248\t      0\t   3932\t    f5c\tmain.elf\n",
            "Compiling image generator...\n",
            "Generating neorv32_exe.bin\n",
            "Executable size in bytes:\n",
            "3944\n"
          ]
        }
      ]
    },
    {
      "cell_type": "markdown",
      "source": [
        "This line should be modified according to your compiler prefix.\n",
        "Look at the makefile.\n",
        "\n",
        "`RISCV_PREFIX ?= riscv32-unknown-elf-`\n"
      ],
      "metadata": {
        "id": "nEvQ8HBTHqwA"
      }
    },
    {
      "cell_type": "code",
      "execution_count": null,
      "metadata": {
        "id": "-pCeIdEMkhyb",
        "colab": {
          "base_uri": "https://localhost:8080/"
        },
        "outputId": "6eb62ff7-0907-4263-ec46-b3b6b146be33"
      },
      "outputs": [
        {
          "output_type": "stream",
          "name": "stdout",
          "text": [
            "/content/neorv32/sw/example/hello_world\n",
            "Memory utilization:\n",
            "   text\t   data\t    bss\t    dec\t    hex\tfilename\n",
            "   5572\t      0\t    116\t   5688\t   1638\tmain.elf\n",
            "Compiling image generator...\n",
            "Generating neorv32_application_image.vhd\n",
            "Installing application image to ../../../rtl/core/neorv32_application_image.vhd\n",
            "Generating neorv32_exe.bin\n",
            "Executable size in bytes:\n",
            "5584\n"
          ]
        }
      ],
      "source": [
        "%cd /content/neorv32/sw/example/hello_world/\n",
        "# %cd /content/neorv32/sw/example/performance_tests/I/\n",
        "# %cd /content/neorv32/sw/example/coremark\n",
        "# %cd /content/neorv32/sw/example/demo_cfu\n",
        "# %cd /content/neorv32/sw/example/bus_explorer\n",
        "# !make clean USER_FLAGS+=\"-Wl,--defsym,__neorv32_ram_size=8M\" MARCH=rv32ima_zicsr_zfinx_zifencei install exe asm\n",
        "!make clean USER_FLAGS+=-DRUN_CHECK MARCH=rv32ima_zicsr_zfinx_zifencei install exe asm\n",
        "# !make USER_FLAGS+=\"-Wl,--defsym,__neorv32_ram_size=409600\" clean_all exe MARCH=rv32imc_zicsr_zifencei\n",
        "# !make clean_all MARCH=rv32im_zicsr_zifencei install\n",
        "# !make asm MARCH=rv32imc\n",
        "# !make elf_info\n"
      ]
    },
    {
      "cell_type": "code",
      "execution_count": null,
      "metadata": {
        "id": "8lO2rCrzv1TR"
      },
      "outputs": [],
      "source": [
        "!make clean"
      ]
    },
    {
      "cell_type": "code",
      "execution_count": null,
      "metadata": {
        "colab": {
          "base_uri": "https://localhost:8080/"
        },
        "id": "AYPmPaU_Pemq",
        "outputId": "e73740fa-bccb-4c31-cfd3-28c580a7008f"
      },
      "outputs": [
        {
          "name": "stdout",
          "output_type": "stream",
          "text": [
            "/content\n",
            "\u001b[01m\u001b[Kcc1:\u001b[m\u001b[K \u001b[01;31m\u001b[Kfatal error: \u001b[m\u001b[Kmain.c: No such file or directory\n",
            "compilation terminated.\n",
            "/bin/bash: line 1: ./main: No such file or directory\n"
          ]
        }
      ],
      "source": [
        "#### ----- X86 ------\n",
        "%cd /content\n",
        "!gcc main.c -lm -o main\n",
        "!./main"
      ]
    },
    {
      "cell_type": "code",
      "execution_count": null,
      "metadata": {
        "id": "SNoYkyQfuLv4"
      },
      "outputs": [],
      "source": [
        "!apt-get install gtkwave"
      ]
    },
    {
      "cell_type": "code",
      "execution_count": null,
      "metadata": {
        "id": "XjX2e6ePtoZ3"
      },
      "outputs": [],
      "source": [
        "%cd /content/neorv32/sw/example/hello_world\n",
        "!make clean USER_FLAGS+=\"-Wl,--defsym,__neorv32_ram_size=1M\" MARCH=rv32ima_zicsr_zfinx_zifencei install exe asm\n",
        "!make elf_info"
      ]
    },
    {
      "cell_type": "markdown",
      "metadata": {
        "id": "atHnpK4B65VK"
      },
      "source": [
        "# **Convert to verilog**"
      ]
    },
    {
      "cell_type": "code",
      "source": [
        "# !apt install ghdl"
      ],
      "metadata": {
        "id": "ZGabeHSHHKaj"
      },
      "execution_count": null,
      "outputs": []
    },
    {
      "cell_type": "code",
      "execution_count": null,
      "metadata": {
        "colab": {
          "base_uri": "https://localhost:8080/"
        },
        "id": "xFs2gfbkNk43",
        "outputId": "51f82e16-6b80-4c91-a1f1-5ac3868cf1d5"
      },
      "outputs": [
        {
          "output_type": "stream",
          "name": "stdout",
          "text": [
            "/content\n",
            "rm: cannot remove '/content/ghdl': No such file or directory\n",
            "Cloning into 'ghdl'...\n",
            "remote: Enumerating objects: 82039, done.\u001b[K\n",
            "remote: Counting objects: 100% (7464/7464), done.\u001b[K\n",
            "remote: Compressing objects: 100% (1325/1325), done.\u001b[K\n",
            "remote: Total 82039 (delta 6580), reused 6762 (delta 6136), pack-reused 74575 (from 1)\u001b[K\n",
            "Receiving objects: 100% (82039/82039), 81.33 MiB | 14.72 MiB/s, done.\n",
            "Resolving deltas: 100% (61695/61695), done.\n",
            "Updating files: 100% (12523/12523), done.\n"
          ]
        }
      ],
      "source": [
        "%cd /content\n",
        "!rm -r /content/ghdl\n",
        "!git clone https://github.com/ghdl/ghdl.git"
      ]
    },
    {
      "cell_type": "code",
      "execution_count": null,
      "metadata": {
        "colab": {
          "base_uri": "https://localhost:8080/"
        },
        "id": "BjeC64bKNrh-",
        "outputId": "74cef2ef-d8dc-4021-eb4c-c93e4e1f38f7"
      },
      "outputs": [
        {
          "output_type": "stream",
          "name": "stdout",
          "text": [
            "/content/ghdl\n"
          ]
        }
      ],
      "source": [
        "%cd /content/ghdl"
      ]
    },
    {
      "cell_type": "code",
      "execution_count": null,
      "metadata": {
        "id": "RD-z14Q-N4iP"
      },
      "outputs": [],
      "source": [
        "!apt install gnat"
      ]
    },
    {
      "cell_type": "code",
      "execution_count": null,
      "metadata": {
        "id": "wuPqNDi6N-tG"
      },
      "outputs": [],
      "source": [
        "!./configure --prefix=/usr/local"
      ]
    },
    {
      "cell_type": "code",
      "execution_count": null,
      "metadata": {
        "id": "svA3ygS3OBCg"
      },
      "outputs": [],
      "source": [
        "!make\n",
        "!make install"
      ]
    },
    {
      "cell_type": "code",
      "execution_count": null,
      "metadata": {
        "colab": {
          "base_uri": "https://localhost:8080/"
        },
        "id": "hJ5f4fl67Hmy",
        "outputId": "525aaadf-2a94-4f57-d2ca-b3c32518ba2e"
      },
      "outputs": [
        {
          "output_type": "stream",
          "name": "stdout",
          "text": [
            "/content\n"
          ]
        }
      ],
      "source": [
        "%cd /content\n",
        "!rm -rf neorv32-verilog"
      ]
    },
    {
      "cell_type": "code",
      "execution_count": null,
      "metadata": {
        "id": "5QgNwRqb644Y"
      },
      "outputs": [],
      "source": [
        "%cd /content\n",
        "!git clone --recursive https://github.com/stnolting/neorv32-verilog.git"
      ]
    },
    {
      "cell_type": "code",
      "execution_count": null,
      "metadata": {
        "colab": {
          "base_uri": "https://localhost:8080/"
        },
        "id": "baqWq6tR7OT9",
        "outputId": "1bbf83bb-05b2-4ddf-f1b4-09322ffcfb07"
      },
      "outputs": [
        {
          "output_type": "stream",
          "name": "stdout",
          "text": [
            "/content/neorv32-verilog\n"
          ]
        }
      ],
      "source": [
        "%cd /content/neorv32-verilog"
      ]
    },
    {
      "cell_type": "code",
      "execution_count": null,
      "metadata": {
        "colab": {
          "base_uri": "https://localhost:8080/"
        },
        "id": "VPpWtRJUKui8",
        "outputId": "80697892-b1b8-4ec3-a7e6-a3f8f35c65ad"
      },
      "outputs": [
        {
          "output_type": "stream",
          "name": "stdout",
          "text": [
            "/content/neorv32-verilog/neorv32/rtl/core\n"
          ]
        }
      ],
      "source": [
        "%cd /content/neorv32-verilog/neorv32/rtl/core\n",
        "!rm -r neorv32*"
      ]
    },
    {
      "cell_type": "code",
      "execution_count": null,
      "metadata": {
        "id": "ffIxIbiw7qG7"
      },
      "outputs": [],
      "source": [
        "%cd /content/neorv32-verilog/src\n",
        "!sh convert.sh"
      ]
    }
  ],
  "metadata": {
    "colab": {
      "provenance": [],
      "mount_file_id": "1E2cHNZF6SIiGWU7nX5zZ-D2TnCV2xmRZ",
      "authorship_tag": "ABX9TyPkiytuioYC63yWwHZIi7tY",
      "include_colab_link": true
    },
    "kernelspec": {
      "display_name": "Python 3",
      "name": "python3"
    },
    "language_info": {
      "name": "python"
    }
  },
  "nbformat": 4,
  "nbformat_minor": 0
}