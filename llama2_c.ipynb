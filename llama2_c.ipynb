{
  "nbformat": 4,
  "nbformat_minor": 0,
  "metadata": {
    "colab": {
      "provenance": [],
      "authorship_tag": "ABX9TyMVeeew10lIqk0iYVl3L3jJ",
      "include_colab_link": true
    },
    "kernelspec": {
      "name": "python3",
      "display_name": "Python 3"
    },
    "language_info": {
      "name": "python"
    }
  },
  "cells": [
    {
      "cell_type": "markdown",
      "metadata": {
        "id": "view-in-github",
        "colab_type": "text"
      },
      "source": [
        "<a href=\"https://colab.research.google.com/github/mahdi259/RV_workshop/blob/main/llama2_c.ipynb\" target=\"_parent\"><img src=\"https://colab.research.google.com/assets/colab-badge.svg\" alt=\"Open In Colab\"/></a>"
      ]
    },
    {
      "cell_type": "markdown",
      "source": [
        "# **Retrieve llama2.c files**"
      ],
      "metadata": {
        "id": "7OX9IvONJCJg"
      }
    },
    {
      "cell_type": "code",
      "execution_count": 1,
      "metadata": {
        "colab": {
          "base_uri": "https://localhost:8080/"
        },
        "id": "Rt6sbWdOrpok",
        "outputId": "d0de3fe5-6ece-4c10-f84d-5db8fe2dcb75"
      },
      "outputs": [
        {
          "output_type": "stream",
          "name": "stdout",
          "text": [
            "Cloning into 'llama2.c'...\n",
            "remote: Enumerating objects: 1517, done.\u001b[K\n",
            "remote: Total 1517 (delta 0), reused 0 (delta 0), pack-reused 1517 (from 1)\u001b[K\n",
            "Receiving objects: 100% (1517/1517), 1.43 MiB | 8.35 MiB/s, done.\n",
            "Resolving deltas: 100% (930/930), done.\n"
          ]
        }
      ],
      "source": [
        "!git clone https://github.com/karpathy/llama2.c.git"
      ]
    },
    {
      "cell_type": "code",
      "source": [
        "%cd /content/llama2.c"
      ],
      "metadata": {
        "colab": {
          "base_uri": "https://localhost:8080/"
        },
        "id": "iWxiaxmQrxNl",
        "outputId": "1944bef8-f742-4e67-d30d-f143c72df782"
      },
      "execution_count": 2,
      "outputs": [
        {
          "output_type": "stream",
          "name": "stdout",
          "text": [
            "/content/llama2.c\n"
          ]
        }
      ]
    },
    {
      "cell_type": "markdown",
      "source": [
        "# **Download tinystory weight file**"
      ],
      "metadata": {
        "id": "N2X5akhCJG89"
      }
    },
    {
      "cell_type": "code",
      "source": [
        "!wget https://huggingface.co/karpathy/tinyllamas/resolve/main/stories15M.pt\n",
        "!wget https://huggingface.co/karpathy/tinyllamas/resolve/main/stories110M.pt"
      ],
      "metadata": {
        "colab": {
          "base_uri": "https://localhost:8080/"
        },
        "id": "jT7ZinVVr0aU",
        "outputId": "0a7a43af-156d-440f-fa1d-243de39b539e"
      },
      "execution_count": 16,
      "outputs": [
        {
          "output_type": "stream",
          "name": "stdout",
          "text": [
            "--2025-05-10 17:08:25--  https://huggingface.co/karpathy/tinyllamas/resolve/main/stories15M.pt\n",
            "Resolving huggingface.co (huggingface.co)... 18.160.143.75, 18.160.143.99, 18.160.143.76, ...\n",
            "Connecting to huggingface.co (huggingface.co)|18.160.143.75|:443... connected.\n",
            "HTTP request sent, awaiting response... 302 Found\n",
            "Location: https://cdn-lfs.hf.co/repos/88/4b/884bade32e5ee32eea725c5087af1358179a1bea94a4f6abc3c0470c9610ac38/3da00c0fef684f3f83b457736837c46ab55e92a26662b61d6104de2d271c708d?response-content-disposition=inline%3B+filename*%3DUTF-8%27%27stories15M.pt%3B+filename%3D%22stories15M.pt%22%3B&Expires=1746900505&Policy=eyJTdGF0ZW1lbnQiOlt7IkNvbmRpdGlvbiI6eyJEYXRlTGVzc1RoYW4iOnsiQVdTOkVwb2NoVGltZSI6MTc0NjkwMDUwNX19LCJSZXNvdXJjZSI6Imh0dHBzOi8vY2RuLWxmcy5oZi5jby9yZXBvcy84OC80Yi84ODRiYWRlMzJlNWVlMzJlZWE3MjVjNTA4N2FmMTM1ODE3OWExYmVhOTRhNGY2YWJjM2MwNDcwYzk2MTBhYzM4LzNkYTAwYzBmZWY2ODRmM2Y4M2I0NTc3MzY4MzdjNDZhYjU1ZTkyYTI2NjYyYjYxZDYxMDRkZTJkMjcxYzcwOGQ%7EcmVzcG9uc2UtY29udGVudC1kaXNwb3NpdGlvbj0qIn1dfQ__&Signature=dkzTH4sMO7Y8x6IwKDi--5HX8mbWkbs39Cw8bCWoutjiDjINwK09iooNlweO79nog1oppEy4WnpIQxFE3SsqUZbRnGsH-GLPewKU8IZbFG%7EEndL%7EEIlsr-nTDm%7ECa7cTOEfLIBzWKa4cbidX97mpPTFVlvkTzFX3r5tJ3S8Vuhhq2cn4MwVyCAmB2Y5aXFuzNHPX09uGKgcHXFUxV7zI73pALvrDiNYPOk%7Ef1RJw2RA40zOmzytmXgVuexx974ZnMpFVftkfELLGgQA-Dr6aAOgu9R9-bosiWojcl52E8ocxCwWIdHmxxjeZMHXBjq7tOwSnhx9Ok%7EDzNoSdtBYgmA__&Key-Pair-Id=K3RPWS32NSSJCE [following]\n",
            "--2025-05-10 17:08:25--  https://cdn-lfs.hf.co/repos/88/4b/884bade32e5ee32eea725c5087af1358179a1bea94a4f6abc3c0470c9610ac38/3da00c0fef684f3f83b457736837c46ab55e92a26662b61d6104de2d271c708d?response-content-disposition=inline%3B+filename*%3DUTF-8%27%27stories15M.pt%3B+filename%3D%22stories15M.pt%22%3B&Expires=1746900505&Policy=eyJTdGF0ZW1lbnQiOlt7IkNvbmRpdGlvbiI6eyJEYXRlTGVzc1RoYW4iOnsiQVdTOkVwb2NoVGltZSI6MTc0NjkwMDUwNX19LCJSZXNvdXJjZSI6Imh0dHBzOi8vY2RuLWxmcy5oZi5jby9yZXBvcy84OC80Yi84ODRiYWRlMzJlNWVlMzJlZWE3MjVjNTA4N2FmMTM1ODE3OWExYmVhOTRhNGY2YWJjM2MwNDcwYzk2MTBhYzM4LzNkYTAwYzBmZWY2ODRmM2Y4M2I0NTc3MzY4MzdjNDZhYjU1ZTkyYTI2NjYyYjYxZDYxMDRkZTJkMjcxYzcwOGQ%7EcmVzcG9uc2UtY29udGVudC1kaXNwb3NpdGlvbj0qIn1dfQ__&Signature=dkzTH4sMO7Y8x6IwKDi--5HX8mbWkbs39Cw8bCWoutjiDjINwK09iooNlweO79nog1oppEy4WnpIQxFE3SsqUZbRnGsH-GLPewKU8IZbFG%7EEndL%7EEIlsr-nTDm%7ECa7cTOEfLIBzWKa4cbidX97mpPTFVlvkTzFX3r5tJ3S8Vuhhq2cn4MwVyCAmB2Y5aXFuzNHPX09uGKgcHXFUxV7zI73pALvrDiNYPOk%7Ef1RJw2RA40zOmzytmXgVuexx974ZnMpFVftkfELLGgQA-Dr6aAOgu9R9-bosiWojcl52E8ocxCwWIdHmxxjeZMHXBjq7tOwSnhx9Ok%7EDzNoSdtBYgmA__&Key-Pair-Id=K3RPWS32NSSJCE\n",
            "Resolving cdn-lfs.hf.co (cdn-lfs.hf.co)... 3.167.152.106, 3.167.152.12, 3.167.152.37, ...\n",
            "Connecting to cdn-lfs.hf.co (cdn-lfs.hf.co)|3.167.152.106|:443... connected.\n",
            "HTTP request sent, awaiting response... 200 OK\n",
            "Length: 60789090 (58M) [binary/octet-stream]\n",
            "Saving to: ‘stories15M.pt.2’\n",
            "\n",
            "stories15M.pt.2     100%[===================>]  57.97M   246MB/s    in 0.2s    \n",
            "\n",
            "2025-05-10 17:08:25 (246 MB/s) - ‘stories15M.pt.2’ saved [60789090/60789090]\n",
            "\n",
            "--2025-05-10 17:08:25--  https://huggingface.co/karpathy/tinyllamas/resolve/main/stories110M.pt\n",
            "Resolving huggingface.co (huggingface.co)... 18.67.39.53, 18.67.39.35, 18.67.39.90, ...\n",
            "Connecting to huggingface.co (huggingface.co)|18.67.39.53|:443... connected.\n",
            "HTTP request sent, awaiting response... 302 Found\n",
            "Location: https://cdn-lfs.hf.co/repos/88/4b/884bade32e5ee32eea725c5087af1358179a1bea94a4f6abc3c0470c9610ac38/cdef30b5108d1b5d1c232fcf7e2ea433cc6cdc473aa876af9d8d6ce83bf4b5e0?response-content-disposition=inline%3B+filename*%3DUTF-8%27%27stories110M.pt%3B+filename%3D%22stories110M.pt%22%3B&Expires=1746900506&Policy=eyJTdGF0ZW1lbnQiOlt7IkNvbmRpdGlvbiI6eyJEYXRlTGVzc1RoYW4iOnsiQVdTOkVwb2NoVGltZSI6MTc0NjkwMDUwNn19LCJSZXNvdXJjZSI6Imh0dHBzOi8vY2RuLWxmcy5oZi5jby9yZXBvcy84OC80Yi84ODRiYWRlMzJlNWVlMzJlZWE3MjVjNTA4N2FmMTM1ODE3OWExYmVhOTRhNGY2YWJjM2MwNDcwYzk2MTBhYzM4L2NkZWYzMGI1MTA4ZDFiNWQxYzIzMmZjZjdlMmVhNDMzY2M2Y2RjNDczYWE4NzZhZjlkOGQ2Y2U4M2JmNGI1ZTA%7EcmVzcG9uc2UtY29udGVudC1kaXNwb3NpdGlvbj0qIn1dfQ__&Signature=Nkp%7ErqJ2cPppu7UOzazFciMh5tNYk0rmoeL21%7EWLlOKIzpsUr78OxRjDY2d%7EQNPgHTasfYZQQOcDXyDxHeIM8PIalgrZfKM6sx4TvhLyeVY3jEUnCL9XEZ1pdcG5TYw2%7EpchB63auX6meIzr-Qazi0JJwcUH8AwRGdljAZHYPlR74zgpbeQqZp2doqekkInXhs6PToTwXe60TwxitTBKh5FoGsLD2RfzCkRIpbwUXvIOf3f9RVgUKFyih8YsxwLhZNpqyRknGrbWPnU-DnTbud5lFcAIsJwbvkWEy73Yh1l9jylfRs7EKsTw27kwMX-xifvWDsCNRyq3YEZ8yS5Pew__&Key-Pair-Id=K3RPWS32NSSJCE [following]\n",
            "--2025-05-10 17:08:26--  https://cdn-lfs.hf.co/repos/88/4b/884bade32e5ee32eea725c5087af1358179a1bea94a4f6abc3c0470c9610ac38/cdef30b5108d1b5d1c232fcf7e2ea433cc6cdc473aa876af9d8d6ce83bf4b5e0?response-content-disposition=inline%3B+filename*%3DUTF-8%27%27stories110M.pt%3B+filename%3D%22stories110M.pt%22%3B&Expires=1746900506&Policy=eyJTdGF0ZW1lbnQiOlt7IkNvbmRpdGlvbiI6eyJEYXRlTGVzc1RoYW4iOnsiQVdTOkVwb2NoVGltZSI6MTc0NjkwMDUwNn19LCJSZXNvdXJjZSI6Imh0dHBzOi8vY2RuLWxmcy5oZi5jby9yZXBvcy84OC80Yi84ODRiYWRlMzJlNWVlMzJlZWE3MjVjNTA4N2FmMTM1ODE3OWExYmVhOTRhNGY2YWJjM2MwNDcwYzk2MTBhYzM4L2NkZWYzMGI1MTA4ZDFiNWQxYzIzMmZjZjdlMmVhNDMzY2M2Y2RjNDczYWE4NzZhZjlkOGQ2Y2U4M2JmNGI1ZTA%7EcmVzcG9uc2UtY29udGVudC1kaXNwb3NpdGlvbj0qIn1dfQ__&Signature=Nkp%7ErqJ2cPppu7UOzazFciMh5tNYk0rmoeL21%7EWLlOKIzpsUr78OxRjDY2d%7EQNPgHTasfYZQQOcDXyDxHeIM8PIalgrZfKM6sx4TvhLyeVY3jEUnCL9XEZ1pdcG5TYw2%7EpchB63auX6meIzr-Qazi0JJwcUH8AwRGdljAZHYPlR74zgpbeQqZp2doqekkInXhs6PToTwXe60TwxitTBKh5FoGsLD2RfzCkRIpbwUXvIOf3f9RVgUKFyih8YsxwLhZNpqyRknGrbWPnU-DnTbud5lFcAIsJwbvkWEy73Yh1l9jylfRs7EKsTw27kwMX-xifvWDsCNRyq3YEZ8yS5Pew__&Key-Pair-Id=K3RPWS32NSSJCE\n",
            "Resolving cdn-lfs.hf.co (cdn-lfs.hf.co)... 3.167.152.106, 3.167.152.12, 3.167.152.37, ...\n",
            "Connecting to cdn-lfs.hf.co (cdn-lfs.hf.co)|3.167.152.106|:443... connected.\n",
            "HTTP request sent, awaiting response... 200 OK\n",
            "Length: 438163693 (418M) [binary/octet-stream]\n",
            "Saving to: ‘stories110M.pt’\n",
            "\n",
            "stories110M.pt      100%[===================>] 417.87M   260MB/s    in 1.6s    \n",
            "\n",
            "2025-05-10 17:08:27 (260 MB/s) - ‘stories110M.pt’ saved [438163693/438163693]\n",
            "\n"
          ]
        }
      ]
    },
    {
      "cell_type": "markdown",
      "source": [
        "# **Quantize FP weights to 8-bit integers**"
      ],
      "metadata": {
        "id": "leoYkm0sJN19"
      }
    },
    {
      "cell_type": "code",
      "source": [
        "!python export.py stories15M_q8.bin --version 2 --checkpoint stories15M.pt\n",
        "!python export.py stories110M_q8.bin --version 2 --checkpoint stories110M.pt"
      ],
      "metadata": {
        "colab": {
          "base_uri": "https://localhost:8080/"
        },
        "id": "Vbbxu4e1sD8k",
        "outputId": "ab1c70f7-687d-4513-a453-cc46fd61d481"
      },
      "execution_count": 18,
      "outputs": [
        {
          "output_type": "stream",
          "name": "stdout",
          "text": [
            "1/85 quantized (32000, 768) to Q8_0 with max error 0.003654038067907095\n",
            "2/85 quantized (768, 768) to Q8_0 with max error 0.004170738160610199\n",
            "3/85 quantized (768, 768) to Q8_0 with max error 0.003000602126121521\n",
            "4/85 quantized (768, 768) to Q8_0 with max error 0.0016023963689804077\n",
            "5/85 quantized (768, 768) to Q8_0 with max error 0.0016151797026395798\n",
            "6/85 quantized (768, 768) to Q8_0 with max error 0.0012759491801261902\n",
            "7/85 quantized (768, 768) to Q8_0 with max error 0.0016127917915582657\n",
            "8/85 quantized (768, 768) to Q8_0 with max error 0.0017744917422533035\n",
            "9/85 quantized (768, 768) to Q8_0 with max error 0.001604922115802765\n",
            "10/85 quantized (768, 768) to Q8_0 with max error 0.0013548601418733597\n",
            "11/85 quantized (768, 768) to Q8_0 with max error 0.0012858472764492035\n",
            "12/85 quantized (768, 768) to Q8_0 with max error 0.0013519711792469025\n",
            "13/85 quantized (768, 768) to Q8_0 with max error 0.0015196055173873901\n",
            "14/85 quantized (768, 768) to Q8_0 with max error 0.0046731531620025635\n",
            "15/85 quantized (768, 768) to Q8_0 with max error 0.002657962031662464\n",
            "16/85 quantized (768, 768) to Q8_0 with max error 0.0023212283849716187\n",
            "17/85 quantized (768, 768) to Q8_0 with max error 0.0022122710943222046\n",
            "18/85 quantized (768, 768) to Q8_0 with max error 0.0017188265919685364\n",
            "19/85 quantized (768, 768) to Q8_0 with max error 0.0016633719205856323\n",
            "20/85 quantized (768, 768) to Q8_0 with max error 0.001779051497578621\n",
            "21/85 quantized (768, 768) to Q8_0 with max error 0.0014288723468780518\n",
            "22/85 quantized (768, 768) to Q8_0 with max error 0.0012349896132946014\n",
            "23/85 quantized (768, 768) to Q8_0 with max error 0.0012760944664478302\n",
            "24/85 quantized (768, 768) to Q8_0 with max error 0.001382485032081604\n",
            "25/85 quantized (768, 768) to Q8_0 with max error 0.0012611784040927887\n",
            "26/85 quantized (768, 768) to Q8_0 with max error 0.0003490336239337921\n",
            "27/85 quantized (768, 768) to Q8_0 with max error 0.0004523349925875664\n",
            "28/85 quantized (768, 768) to Q8_0 with max error 0.0004940647631883621\n",
            "29/85 quantized (768, 768) to Q8_0 with max error 0.00048619508743286133\n",
            "30/85 quantized (768, 768) to Q8_0 with max error 0.000509750097990036\n",
            "31/85 quantized (768, 768) to Q8_0 with max error 0.0005019530653953552\n",
            "32/85 quantized (768, 768) to Q8_0 with max error 0.0005434313789010048\n",
            "33/85 quantized (768, 768) to Q8_0 with max error 0.0005240887403488159\n",
            "34/85 quantized (768, 768) to Q8_0 with max error 0.0005356334149837494\n",
            "35/85 quantized (768, 768) to Q8_0 with max error 0.0005670199170708656\n",
            "36/85 quantized (768, 768) to Q8_0 with max error 0.0006096884608268738\n",
            "37/85 quantized (768, 768) to Q8_0 with max error 0.0006519714370369911\n",
            "38/85 quantized (768, 768) to Q8_0 with max error 0.0028683990240097046\n",
            "39/85 quantized (768, 768) to Q8_0 with max error 0.0034306086599826813\n",
            "40/85 quantized (768, 768) to Q8_0 with max error 0.00193076953291893\n",
            "41/85 quantized (768, 768) to Q8_0 with max error 0.0013299616985023022\n",
            "42/85 quantized (768, 768) to Q8_0 with max error 0.0005911737680435181\n",
            "43/85 quantized (768, 768) to Q8_0 with max error 0.0009407438337802887\n",
            "44/85 quantized (768, 768) to Q8_0 with max error 0.0006230548024177551\n",
            "45/85 quantized (768, 768) to Q8_0 with max error 0.0005524605512619019\n",
            "46/85 quantized (768, 768) to Q8_0 with max error 0.0007136911153793335\n",
            "47/85 quantized (768, 768) to Q8_0 with max error 0.0007594861090183258\n",
            "48/85 quantized (768, 768) to Q8_0 with max error 0.0009334161877632141\n",
            "49/85 quantized (768, 768) to Q8_0 with max error 0.002033919095993042\n",
            "50/85 quantized (2048, 768) to Q8_0 with max error 0.0014361031353473663\n",
            "51/85 quantized (2048, 768) to Q8_0 with max error 0.0016513019800186157\n",
            "52/85 quantized (2048, 768) to Q8_0 with max error 0.0009642839431762695\n",
            "53/85 quantized (2048, 768) to Q8_0 with max error 0.0010929908603429794\n",
            "54/85 quantized (2048, 768) to Q8_0 with max error 0.0011613238602876663\n",
            "55/85 quantized (2048, 768) to Q8_0 with max error 0.000840015709400177\n",
            "56/85 quantized (2048, 768) to Q8_0 with max error 0.0009707361459732056\n",
            "57/85 quantized (2048, 768) to Q8_0 with max error 0.0010397597216069698\n",
            "58/85 quantized (2048, 768) to Q8_0 with max error 0.0007673688232898712\n",
            "59/85 quantized (2048, 768) to Q8_0 with max error 0.0008389996364712715\n",
            "60/85 quantized (2048, 768) to Q8_0 with max error 0.0012261010706424713\n",
            "61/85 quantized (2048, 768) to Q8_0 with max error 0.0015722541138529778\n",
            "62/85 quantized (768, 2048) to Q8_0 with max error 0.0020605064928531647\n",
            "63/85 quantized (768, 2048) to Q8_0 with max error 0.0061369724571704865\n",
            "64/85 quantized (768, 2048) to Q8_0 with max error 0.007586655206978321\n",
            "65/85 quantized (768, 2048) to Q8_0 with max error 0.006202323827892542\n",
            "66/85 quantized (768, 2048) to Q8_0 with max error 0.005676191300153732\n",
            "67/85 quantized (768, 2048) to Q8_0 with max error 0.0052066370844841\n",
            "68/85 quantized (768, 2048) to Q8_0 with max error 0.0031690672039985657\n",
            "69/85 quantized (768, 2048) to Q8_0 with max error 0.00112234428524971\n",
            "70/85 quantized (768, 2048) to Q8_0 with max error 0.002210564911365509\n",
            "71/85 quantized (768, 2048) to Q8_0 with max error 0.001986440271139145\n",
            "72/85 quantized (768, 2048) to Q8_0 with max error 0.00353415310382843\n",
            "73/85 quantized (768, 2048) to Q8_0 with max error 0.004814453423023224\n",
            "74/85 quantized (2048, 768) to Q8_0 with max error 0.0010774880647659302\n",
            "75/85 quantized (2048, 768) to Q8_0 with max error 0.0015964135527610779\n",
            "76/85 quantized (2048, 768) to Q8_0 with max error 0.0010453946888446808\n",
            "77/85 quantized (2048, 768) to Q8_0 with max error 0.001080535352230072\n",
            "78/85 quantized (2048, 768) to Q8_0 with max error 0.0008591450750827789\n",
            "79/85 quantized (2048, 768) to Q8_0 with max error 0.0016128160059452057\n",
            "80/85 quantized (2048, 768) to Q8_0 with max error 0.000699097290635109\n",
            "81/85 quantized (2048, 768) to Q8_0 with max error 0.0007664794102311134\n",
            "82/85 quantized (2048, 768) to Q8_0 with max error 0.0007083602249622345\n",
            "83/85 quantized (2048, 768) to Q8_0 with max error 0.0011146776378154755\n",
            "84/85 quantized (2048, 768) to Q8_0 with max error 0.0012980285100638866\n",
            "85/85 quantized (2048, 768) to Q8_0 with max error 0.0017419755458831787\n",
            "max quantization group error across all weights: 0.007586655206978321\n",
            "wrote stories110M_q8.bin\n"
          ]
        }
      ]
    },
    {
      "cell_type": "markdown",
      "source": [
        "# **Run the model**"
      ],
      "metadata": {
        "id": "9NSDKU_zMHHS"
      }
    },
    {
      "cell_type": "code",
      "source": [
        "!make run\n",
        "!./runq stories15M_q8.bin -i \"Helen is reading\"\n",
        "# !./runq stories110M_q8.bin -i \"Helen is reading\""
      ],
      "metadata": {
        "colab": {
          "base_uri": "https://localhost:8080/"
        },
        "id": "ZM2guSOnKJu3",
        "outputId": "1810a0de-5e3b-4f17-bd40-2ad278e9234c"
      },
      "execution_count": 21,
      "outputs": [
        {
          "output_type": "stream",
          "name": "stdout",
          "text": [
            "gcc -O3 -o run run.c -lm\n",
            "gcc -O3 -o runq runq.c -lm\n",
            "Helen is reading her book about sunshine. She hears the sunshine getting closer and closer.\n",
            "Suddenly, Helen's teacher called out from the front of the room. \"H moderation,\" she said.\n",
            "The teacher pointed to a thick white line in the corner. \"The sunshine is ending! It's time for us to go outside and play!\"\n",
            "S Helen was so excited. She put down her book and ran outside with her mom to find the best thing to do. \n",
            "Soon enough, True was able to go outside and enjoy the sunshine. She ran around, jumping, smiling and playing all day.\n",
            "The yellow sunshine made her feel so happy and alive.\n",
            "\"See, exercise is good for you!\" She said to her mom.\n",
            "And that's how Helen had had a great time playing in the sunshine and seeing the sunshine come into our lives.\n",
            "achieved tok/s: 123.380629\n"
          ]
        }
      ]
    }
  ]
}